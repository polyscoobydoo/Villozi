{
  "nbformat": 4,
  "nbformat_minor": 0,
  "metadata": {
    "colab": {
      "provenance": [],
      "include_colab_link": true
    },
    "kernelspec": {
      "name": "python3",
      "display_name": "Python 3"
    },
    "language_info": {
      "name": "python"
    }
  },
  "cells": [
    {
      "cell_type": "markdown",
      "metadata": {
        "id": "view-in-github",
        "colab_type": "text"
      },
      "source": [
        "<a href=\"https://colab.research.google.com/github/polyscoobydoo/Villozi/blob/main/%D0%B3%D0%B5%D0%BD%D0%B5%D1%80%D0%B0%D1%86%D0%B8%D1%8F%20%D0%B3%D0%BE%D1%80%D0%BE%D0%B4%D1%81%D0%BA%D0%B8%D1%85%20%D0%BA%D0%B2%D0%B0%D1%80%D1%82%D0%B0%D0%BB%D0%BE%D0%B2.ipynb\" target=\"_parent\"><img src=\"https://colab.research.google.com/assets/colab-badge.svg\" alt=\"Open In Colab\"/></a>"
      ]
    },
    {
      "cell_type": "code",
      "source": [
        "!pip install blocksnet ipykernel -q\n",
        "!pip install mapclassify -q"
      ],
      "metadata": {
        "id": "0UCSY4acgSfl",
        "colab": {
          "base_uri": "https://localhost:8080/"
        },
        "outputId": "22f1f95c-e5c0-48db-c0bd-6237f387bc95"
      },
      "execution_count": 2,
      "outputs": [
        {
          "output_type": "stream",
          "name": "stdout",
          "text": [
            "  Preparing metadata (setup.py) ... \u001b[?25l\u001b[?25hdone\n",
            "\u001b[2K     \u001b[90m━━━━━━━━━━━━━━━━━━━━━━━━━━━━━━━━━━━━━━━━\u001b[0m \u001b[32m56.6/56.6 kB\u001b[0m \u001b[31m2.6 MB/s\u001b[0m eta \u001b[36m0:00:00\u001b[0m\n",
            "\u001b[2K   \u001b[90m━━━━━━━━━━━━━━━━━━━━━━━━━━━━━━━━━━━━━━━━\u001b[0m \u001b[32m63.6/63.6 kB\u001b[0m \u001b[31m3.0 MB/s\u001b[0m eta \u001b[36m0:00:00\u001b[0m\n",
            "\u001b[2K   \u001b[90m━━━━━━━━━━━━━━━━━━━━━━━━━━━━━━━━━━━━━━━━\u001b[0m \u001b[32m11.6/11.6 MB\u001b[0m \u001b[31m67.2 MB/s\u001b[0m eta \u001b[36m0:00:00\u001b[0m\n",
            "\u001b[2K   \u001b[90m━━━━━━━━━━━━━━━━━━━━━━━━━━━━━━━━━━━━━━━━\u001b[0m \u001b[32m277.8/277.8 kB\u001b[0m \u001b[31m15.7 MB/s\u001b[0m eta \u001b[36m0:00:00\u001b[0m\n",
            "\u001b[2K   \u001b[90m━━━━━━━━━━━━━━━━━━━━━━━━━━━━━━━━━━━━━━━━\u001b[0m \u001b[32m17.1/17.1 MB\u001b[0m \u001b[31m61.3 MB/s\u001b[0m eta \u001b[36m0:00:00\u001b[0m\n",
            "\u001b[2K   \u001b[90m━━━━━━━━━━━━━━━━━━━━━━━━━━━━━━━━━━━━━━━━\u001b[0m \u001b[32m255.1/255.1 kB\u001b[0m \u001b[31m14.6 MB/s\u001b[0m eta \u001b[36m0:00:00\u001b[0m\n",
            "\u001b[2K   \u001b[90m━━━━━━━━━━━━━━━━━━━━━━━━━━━━━━━━━━━━━━━━\u001b[0m \u001b[32m14.3/14.3 MB\u001b[0m \u001b[31m63.8 MB/s\u001b[0m eta \u001b[36m0:00:00\u001b[0m\n",
            "\u001b[2K   \u001b[90m━━━━━━━━━━━━━━━━━━━━━━━━━━━━━━━━━━━━━━━━\u001b[0m \u001b[32m38.9/38.9 MB\u001b[0m \u001b[31m15.5 MB/s\u001b[0m eta \u001b[36m0:00:00\u001b[0m\n",
            "\u001b[2K   \u001b[90m━━━━━━━━━━━━━━━━━━━━━━━━━━━━━━━━━━━━━━━━\u001b[0m \u001b[32m9.6/9.6 MB\u001b[0m \u001b[31m69.9 MB/s\u001b[0m eta \u001b[36m0:00:00\u001b[0m\n",
            "\u001b[2K   \u001b[90m━━━━━━━━━━━━━━━━━━━━━━━━━━━━━━━━━━━━━━━━\u001b[0m \u001b[32m2.3/2.3 MB\u001b[0m \u001b[31m57.1 MB/s\u001b[0m eta \u001b[36m0:00:00\u001b[0m\n",
            "\u001b[2K   \u001b[90m━━━━━━━━━━━━━━━━━━━━━━━━━━━━━━━━━━━━━━━━\u001b[0m \u001b[32m1.1/1.1 MB\u001b[0m \u001b[31m39.7 MB/s\u001b[0m eta \u001b[36m0:00:00\u001b[0m\n",
            "\u001b[2K   \u001b[90m━━━━━━━━━━━━━━━━━━━━━━━━━━━━━━━━━━━━━━━━\u001b[0m \u001b[32m61.6/61.6 kB\u001b[0m \u001b[31m3.5 MB/s\u001b[0m eta \u001b[36m0:00:00\u001b[0m\n",
            "\u001b[2K   \u001b[90m━━━━━━━━━━━━━━━━━━━━━━━━━━━━━━━━━━━━━━━━\u001b[0m \u001b[32m13.7/13.7 MB\u001b[0m \u001b[31m62.0 MB/s\u001b[0m eta \u001b[36m0:00:00\u001b[0m\n",
            "\u001b[2K   \u001b[90m━━━━━━━━━━━━━━━━━━━━━━━━━━━━━━━━━━━━━━━━\u001b[0m \u001b[32m107.5/107.5 kB\u001b[0m \u001b[31m6.5 MB/s\u001b[0m eta \u001b[36m0:00:00\u001b[0m\n",
            "\u001b[2K   \u001b[90m━━━━━━━━━━━━━━━━━━━━━━━━━━━━━━━━━━━━━━━━\u001b[0m \u001b[32m1.7/1.7 MB\u001b[0m \u001b[31m47.4 MB/s\u001b[0m eta \u001b[36m0:00:00\u001b[0m\n",
            "\u001b[2K   \u001b[90m━━━━━━━━━━━━━━━━━━━━━━━━━━━━━━━━━━━━━━━━\u001b[0m \u001b[32m17.3/17.3 MB\u001b[0m \u001b[31m60.0 MB/s\u001b[0m eta \u001b[36m0:00:00\u001b[0m\n",
            "\u001b[2K   \u001b[90m━━━━━━━━━━━━━━━━━━━━━━━━━━━━━━━━━━━━━━━━\u001b[0m \u001b[32m1.6/1.6 MB\u001b[0m \u001b[31m50.4 MB/s\u001b[0m eta \u001b[36m0:00:00\u001b[0m\n",
            "\u001b[2K   \u001b[90m━━━━━━━━━━━━━━━━━━━━━━━━━━━━━━━━━━━━━━━━\u001b[0m \u001b[32m2.8/2.8 MB\u001b[0m \u001b[31m55.8 MB/s\u001b[0m eta \u001b[36m0:00:00\u001b[0m\n",
            "\u001b[?25h  Building wheel for osm2geojson (setup.py) ... \u001b[?25l\u001b[?25hdone\n",
            "\u001b[31mERROR: pip's dependency resolver does not currently take into account all the packages that are installed. This behaviour is the source of the following dependency conflicts.\n",
            "albucore 0.0.19 requires numpy>=1.24.4, but you have numpy 1.23.5 which is incompatible.\n",
            "albumentations 1.4.20 requires numpy>=1.24.4, but you have numpy 1.23.5 which is incompatible.\n",
            "bigframes 1.27.0 requires numpy>=1.24.0, but you have numpy 1.23.5 which is incompatible.\n",
            "chex 0.1.87 requires numpy>=1.24.1, but you have numpy 1.23.5 which is incompatible.\n",
            "cudf-cu12 24.10.1 requires pyarrow<18.0.0a0,>=14.0.0, but you have pyarrow 12.0.0 which is incompatible.\n",
            "jax 0.4.33 requires numpy>=1.24, but you have numpy 1.23.5 which is incompatible.\n",
            "jaxlib 0.4.33 requires numpy>=1.24, but you have numpy 1.23.5 which is incompatible.\n",
            "mlxtend 0.23.3 requires scikit-learn>=1.3.1, but you have scikit-learn 1.2.2 which is incompatible.\n",
            "plotnine 0.14.3 requires matplotlib>=3.8.0, but you have matplotlib 3.7.1 which is incompatible.\n",
            "pylibcudf-cu12 24.10.1 requires pyarrow<18.0.0a0,>=14.0.0, but you have pyarrow 12.0.0 which is incompatible.\n",
            "xarray 2024.10.0 requires numpy>=1.24, but you have numpy 1.23.5 which is incompatible.\u001b[0m\u001b[31m\n",
            "\u001b[2K   \u001b[90m━━━━━━━━━━━━━━━━━━━━━━━━━━━━━━━━━━━━━━━━\u001b[0m \u001b[32m59.1/59.1 kB\u001b[0m \u001b[31m2.1 MB/s\u001b[0m eta \u001b[36m0:00:00\u001b[0m\n",
            "\u001b[?25h"
          ]
        }
      ]
    },
    {
      "cell_type": "code",
      "source": [
        "import osmnx as ox\n",
        "boundary = ox.geocode_to_gdf('Виллози')\n",
        "boundary.plot()"
      ],
      "metadata": {
        "colab": {
          "base_uri": "https://localhost:8080/",
          "height": 463
        },
        "id": "ykndGH_Wf7lv",
        "outputId": "1e0e3d40-2d04-4de1-a9e5-96c2029bcfa4"
      },
      "execution_count": 13,
      "outputs": [
        {
          "output_type": "execute_result",
          "data": {
            "text/plain": [
              "<Axes: >"
            ]
          },
          "metadata": {},
          "execution_count": 13
        },
        {
          "output_type": "display_data",
          "data": {
            "text/plain": [
              "<Figure size 640x480 with 1 Axes>"
            ],
            "image/png": "[encoded data removed]"
          },
          "metadata": {}
        }
      ]
    },
    {
      "cell_type": "code",
      "source": [
        "tags = {\n",
        "    'roads': {\n",
        "      \"highway\": [\"construction\",\"crossing\",\"living_street\",\"motorway\",\"motorway_link\",\"motorway_junction\",\"pedestrian\",\"primary\",\"primary_link\",\"raceway\",\"residential\",\"road\",\"secondary\",\"secondary_link\",\"services\",\"tertiary\",\"tertiary_link\",\"track\",\"trunk\",\"trunk_link\",\"turning_circle\",\"turning_loop\",\"unclassified\",],\n",
        "      \"service\": [\"living_street\", \"emergency_access\"]\n",
        "    }\n",
        "}\n",
        "roads = ox.features_from_polygon(boundary.unary_union, tags['roads'])\n",
        "\n",
        "local_crs = boundary.estimate_utm_crs()\n",
        "\n",
        "boundary = boundary.reset_index()[['geometry']].to_crs(local_crs)\n",
        "roads = roads.reset_index()[['geometry']].to_crs(local_crs)\n",
        "\n",
        "roads = roads[roads.geom_type.isin(['LineString', 'MultiLineString'])]\n",
        "\n",
        "from blocksnet import BlocksGenerator\n",
        "bg = BlocksGenerator(boundary, roads)\n",
        "\n",
        "blocks = bg.run()\n",
        "\n",
        "blocks.explore()"
      ],
      "metadata": {
        "colab": {
          "base_uri": "https://localhost:8080/",
          "height": 1000
        },
        "id": "b06a2H-YhKpj",
        "outputId": "629fe418-bb2c-4702-a943-ee743221b00e"
      },
      "execution_count": 14,
      "outputs": [
        {
          "output_type": "stream",
          "name": "stderr",
          "text": [
            "\u001b[32m2024-12-14 08:57:21.740\u001b[0m | \u001b[1mINFO    \u001b[0m | \u001b[36mblocksnet.preprocessing.blocks_generator\u001b[0m:\u001b[36m__init__\u001b[0m:\u001b[36m99\u001b[0m - \u001b[1mCheck boundaries schema\u001b[0m\n",
            "<frozen importlib._bootstrap>:914: ImportWarning: _PyDrive2ImportHook.find_spec() not found; falling back to find_module()\n",
            "<frozen importlib._bootstrap>:914: ImportWarning: _PyDriveImportHook.find_spec() not found; falling back to find_module()\n",
            "<frozen importlib._bootstrap>:914: ImportWarning: _GenerativeAIImportHook.find_spec() not found; falling back to find_module()\n",
            "<frozen importlib._bootstrap>:914: ImportWarning: _OpenCVImportHook.find_spec() not found; falling back to find_module()\n",
            "<frozen importlib._bootstrap>:914: ImportWarning: APICoreClientInfoImportHook.find_spec() not found; falling back to find_module()\n",
            "<frozen importlib._bootstrap>:914: ImportWarning: _BokehImportHook.find_spec() not found; falling back to find_module()\n",
            "<frozen importlib._bootstrap>:914: ImportWarning: _AltairImportHook.find_spec() not found; falling back to find_module()\n",
            "<frozen importlib._bootstrap>:914: ImportWarning: _PyDrive2ImportHook.find_spec() not found; falling back to find_module()\n",
            "<frozen importlib._bootstrap>:914: ImportWarning: _PyDriveImportHook.find_spec() not found; falling back to find_module()\n",
            "<frozen importlib._bootstrap>:914: ImportWarning: _GenerativeAIImportHook.find_spec() not found; falling back to find_module()\n",
            "<frozen importlib._bootstrap>:914: ImportWarning: _OpenCVImportHook.find_spec() not found; falling back to find_module()\n",
            "<frozen importlib._bootstrap>:914: ImportWarning: APICoreClientInfoImportHook.find_spec() not found; falling back to find_module()\n",
            "<frozen importlib._bootstrap>:914: ImportWarning: _BokehImportHook.find_spec() not found; falling back to find_module()\n",
            "<frozen importlib._bootstrap>:914: ImportWarning: _AltairImportHook.find_spec() not found; falling back to find_module()\n",
            "<frozen importlib._bootstrap>:914: ImportWarning: _PyDrive2ImportHook.find_spec() not found; falling back to find_module()\n",
            "<frozen importlib._bootstrap>:914: ImportWarning: _PyDriveImportHook.find_spec() not found; falling back to find_module()\n",
            "<frozen importlib._bootstrap>:914: ImportWarning: _GenerativeAIImportHook.find_spec() not found; falling back to find_module()\n",
            "<frozen importlib._bootstrap>:914: ImportWarning: _OpenCVImportHook.find_spec() not found; falling back to find_module()\n",
            "<frozen importlib._bootstrap>:914: ImportWarning: APICoreClientInfoImportHook.find_spec() not found; falling back to find_module()\n",
            "<frozen importlib._bootstrap>:914: ImportWarning: _BokehImportHook.find_spec() not found; falling back to find_module()\n",
            "<frozen importlib._bootstrap>:914: ImportWarning: _AltairImportHook.find_spec() not found; falling back to find_module()\n",
            "/usr/local/lib/python3.10/dist-packages/dask/dataframe/__init__.py:42: FutureWarning: \n",
            "Dask dataframe query planning is disabled because dask-expr is not installed.\n",
            "\n",
            "You can install it with `pip install dask[dataframe]` or `conda install dask`.\n",
            "This will raise in a future version.\n",
            "\n",
            "  warnings.warn(msg, FutureWarning)\n",
            "/usr/local/lib/python3.10/dist-packages/pyspark/sql/pandas/utils.py:37: DeprecationWarning: distutils Version classes are deprecated. Use packaging.version instead.\n",
            "  if LooseVersion(pandas.__version__) < LooseVersion(minimum_pandas_version):\n",
            "/usr/local/lib/python3.10/dist-packages/pyspark/sql/pandas/utils.py:64: DeprecationWarning: distutils Version classes are deprecated. Use packaging.version instead.\n",
            "  if LooseVersion(pyarrow.__version__) < LooseVersion(minimum_pyarrow_version):\n",
            "/usr/local/lib/python3.10/dist-packages/pyspark/pandas/__init__.py:47: DeprecationWarning: distutils Version classes are deprecated. Use packaging.version instead.\n",
            "  LooseVersion(pyarrow.__version__) >= LooseVersion(\"2.0.0\")\n",
            "/usr/local/lib/python3.10/dist-packages/pyspark/pandas/__init__.py:50: UserWarning: 'PYARROW_IGNORE_TIMEZONE' environment variable was not set. It is required to set this environment variable to '1' in both driver and executor sides if you use pyarrow>=2.0.0. pandas-on-Spark will set it for you but it does not work if there is a Spark context already launched.\n",
            "  warnings.warn(\n",
            "/usr/local/lib/python3.10/dist-packages/pyspark/pandas/groupby.py:49: DeprecationWarning: distutils Version classes are deprecated. Use packaging.version instead.\n",
            "  if LooseVersion(pd.__version__) >= LooseVersion(\"1.3.0\"):\n",
            "<frozen importlib._bootstrap>:914: ImportWarning: _PyDrive2ImportHook.find_spec() not found; falling back to find_module()\n",
            "<frozen importlib._bootstrap>:914: ImportWarning: _PyDriveImportHook.find_spec() not found; falling back to find_module()\n",
            "<frozen importlib._bootstrap>:914: ImportWarning: _GenerativeAIImportHook.find_spec() not found; falling back to find_module()\n",
            "<frozen importlib._bootstrap>:914: ImportWarning: _OpenCVImportHook.find_spec() not found; falling back to find_module()\n",
            "<frozen importlib._bootstrap>:914: ImportWarning: APICoreClientInfoImportHook.find_spec() not found; falling back to find_module()\n",
            "<frozen importlib._bootstrap>:914: ImportWarning: _BokehImportHook.find_spec() not found; falling back to find_module()\n",
            "<frozen importlib._bootstrap>:914: ImportWarning: _AltairImportHook.find_spec() not found; falling back to find_module()\n",
            "<frozen importlib._bootstrap>:914: ImportWarning: _PyDrive2ImportHook.find_spec() not found; falling back to find_module()\n",
            "<frozen importlib._bootstrap>:914: ImportWarning: _PyDriveImportHook.find_spec() not found; falling back to find_module()\n",
            "<frozen importlib._bootstrap>:914: ImportWarning: _GenerativeAIImportHook.find_spec() not found; falling back to find_module()\n",
            "<frozen importlib._bootstrap>:914: ImportWarning: _OpenCVImportHook.find_spec() not found; falling back to find_module()\n",
            "<frozen importlib._bootstrap>:914: ImportWarning: APICoreClientInfoImportHook.find_spec() not found; falling back to find_module()\n",
            "<frozen importlib._bootstrap>:914: ImportWarning: _BokehImportHook.find_spec() not found; falling back to find_module()\n",
            "<frozen importlib._bootstrap>:914: ImportWarning: _AltairImportHook.find_spec() not found; falling back to find_module()\n",
            "\u001b[32m2024-12-14 08:57:23.432\u001b[0m | \u001b[1mINFO    \u001b[0m | \u001b[36mblocksnet.preprocessing.blocks_generator\u001b[0m:\u001b[36m__init__\u001b[0m:\u001b[36m103\u001b[0m - \u001b[1mCheck roads schema\u001b[0m\n",
            "\u001b[32m2024-12-14 08:57:23.446\u001b[0m | \u001b[1mINFO    \u001b[0m | \u001b[36mblocksnet.preprocessing.blocks_generator\u001b[0m:\u001b[36m__init__\u001b[0m:\u001b[36m109\u001b[0m - \u001b[1mCheck railways schema\u001b[0m\n",
            "\u001b[32m2024-12-14 08:57:23.455\u001b[0m | \u001b[1mINFO    \u001b[0m | \u001b[36mblocksnet.preprocessing.blocks_generator\u001b[0m:\u001b[36m__init__\u001b[0m:\u001b[36m115\u001b[0m - \u001b[1mCheck water schema\u001b[0m\n",
            "\u001b[32m2024-12-14 08:57:23.464\u001b[0m | \u001b[1mINFO    \u001b[0m | \u001b[36mblocksnet.preprocessing.blocks_generator\u001b[0m:\u001b[36m__init__\u001b[0m:\u001b[36m124\u001b[0m - \u001b[1mExclude water objects\u001b[0m\n",
            "/usr/local/lib/python3.10/dist-packages/blocksnet/preprocessing/blocks_generator.py:125: FutureWarning: `unary_union` returned None due to all-None GeoSeries. In future, `unary_union` will return 'GEOMETRYCOLLECTION EMPTY' instead.\n",
            "  line_water = water[water.geom_type != \"LineString\"].unary_union\n",
            "\u001b[32m2024-12-14 08:57:23.487\u001b[0m | \u001b[1mINFO    \u001b[0m | \u001b[36mblocksnet.preprocessing.blocks_generator\u001b[0m:\u001b[36mrun\u001b[0m:\u001b[36m161\u001b[0m - \u001b[1mGenerating blocks\u001b[0m\n",
            "\u001b[32m2024-12-14 08:57:23.500\u001b[0m | \u001b[1mINFO    \u001b[0m | \u001b[36mblocksnet.preprocessing.blocks_generator\u001b[0m:\u001b[36mrun\u001b[0m:\u001b[36m170\u001b[0m - \u001b[1mSetting up enclosures\u001b[0m\n",
            "\u001b[32m2024-12-14 08:57:23.508\u001b[0m | \u001b[1mINFO    \u001b[0m | \u001b[36mblocksnet.preprocessing.blocks_generator\u001b[0m:\u001b[36mrun\u001b[0m:\u001b[36m174\u001b[0m - \u001b[1mFilling holes\u001b[0m\n",
            "\u001b[32m2024-12-14 08:57:23.521\u001b[0m | \u001b[1mINFO    \u001b[0m | \u001b[36mblocksnet.preprocessing.blocks_generator\u001b[0m:\u001b[36mrun\u001b[0m:\u001b[36m178\u001b[0m - \u001b[1mDropping overlapping blocks\u001b[0m\n",
            "\u001b[32m2024-12-14 08:57:23.531\u001b[0m | \u001b[1mINFO    \u001b[0m | \u001b[36mblocksnet.preprocessing.blocks_generator\u001b[0m:\u001b[36mrun\u001b[0m:\u001b[36m192\u001b[0m - \u001b[1mCalculating blocks area\u001b[0m\n",
            "\u001b[32m2024-12-14 08:57:23.539\u001b[0m | \u001b[1mINFO    \u001b[0m | \u001b[36mblocksnet.preprocessing.blocks_generator\u001b[0m:\u001b[36mrun\u001b[0m:\u001b[36m199\u001b[0m - \u001b[1mBlocks generated\u001b[0m\n",
            "<frozen importlib._bootstrap>:914: ImportWarning: _PyDrive2ImportHook.find_spec() not found; falling back to find_module()\n",
            "<frozen importlib._bootstrap>:914: ImportWarning: _PyDriveImportHook.find_spec() not found; falling back to find_module()\n",
            "<frozen importlib._bootstrap>:914: ImportWarning: _GenerativeAIImportHook.find_spec() not found; falling back to find_module()\n",
            "<frozen importlib._bootstrap>:914: ImportWarning: _OpenCVImportHook.find_spec() not found; falling back to find_module()\n",
            "<frozen importlib._bootstrap>:914: ImportWarning: APICoreClientInfoImportHook.find_spec() not found; falling back to find_module()\n",
            "<frozen importlib._bootstrap>:914: ImportWarning: _BokehImportHook.find_spec() not found; falling back to find_module()\n",
            "<frozen importlib._bootstrap>:914: ImportWarning: _AltairImportHook.find_spec() not found; falling back to find_module()\n",
            "<frozen importlib._bootstrap>:914: ImportWarning: _PyDrive2ImportHook.find_spec() not found; falling back to find_module()\n",
            "<frozen importlib._bootstrap>:914: ImportWarning: _PyDriveImportHook.find_spec() not found; falling back to find_module()\n",
            "<frozen importlib._bootstrap>:914: ImportWarning: _GenerativeAIImportHook.find_spec() not found; falling back to find_module()\n",
            "<frozen importlib._bootstrap>:914: ImportWarning: _OpenCVImportHook.find_spec() not found; falling back to find_module()\n",
            "<frozen importlib._bootstrap>:914: ImportWarning: APICoreClientInfoImportHook.find_spec() not found; falling back to find_module()\n",
            "<frozen importlib._bootstrap>:914: ImportWarning: _BokehImportHook.find_spec() not found; falling back to find_module()\n",
            "<frozen importlib._bootstrap>:914: ImportWarning: _AltairImportHook.find_spec() not found; falling back to find_module()\n",
            "<frozen importlib._bootstrap>:914: ImportWarning: _PyDrive2ImportHook.find_spec() not found; falling back to find_module()\n",
            "<frozen importlib._bootstrap>:914: ImportWarning: _PyDriveImportHook.find_spec() not found; falling back to find_module()\n",
            "<frozen importlib._bootstrap>:914: ImportWarning: _GenerativeAIImportHook.find_spec() not found; falling back to find_module()\n",
            "<frozen importlib._bootstrap>:914: ImportWarning: _OpenCVImportHook.find_spec() not found; falling back to find_module()\n",
            "<frozen importlib._bootstrap>:914: ImportWarning: APICoreClientInfoImportHook.find_spec() not found; falling back to find_module()\n",
            "<frozen importlib._bootstrap>:914: ImportWarning: _BokehImportHook.find_spec() not found; falling back to find_module()\n",
            "<frozen importlib._bootstrap>:914: ImportWarning: _AltairImportHook.find_spec() not found; falling back to find_module()\n"
          ]
        },
        {
          "output_type": "execute_result",
          "data": {
            "text/plain": [
              "<folium.folium.Map at 0x7cb85cfb3b50>"
            ],
            "text/html": [
              "<div style=\"width:100%;\"><div style=\"position:relative;width:100%;height:0;padding-bottom:60%;\"><span style=\"color:#565656\">Make this Notebook Trusted to load map: File -> Trust Notebook</span><iframe srcdoc=\"&lt;!DOCTYPE html&gt;\n",
              "&lt;html&gt;\n",
              "&lt;head&gt;\n",
              "    \n",
              "    &lt;meta http-equiv=&quot;content-type&quot; content=&quot;text/html; charset=UTF-8&quot; /&gt;\n",
              "    \n",
              "        &lt;script&gt;\n",
              "            L_NO_TOUCH = false;\n",
              "            L_DISABLE_3D = false;\n",
              "        &lt;/script&gt;\n",
              "    \n",
              "    &lt;style&gt;html, body {width: 100%;height: 100%;margin: 0;padding: 0;}&lt;/style&gt;\n",
              "    &lt;style&gt;#map {position:absolute;top:0;bottom:0;right:0;left:0;}&lt;/style&gt;\n",
              "    &lt;script src=&quot;https://cdn.jsdelivr.net/npm/leaflet@1.9.3/dist/leaflet.js&quot;&gt;&lt;/script&gt;\n",
              "    &lt;script src=&quot;https://code.jquery.com/jquery-3.7.1.min.js&quot;&gt;&lt;/script&gt;\n",
              "    &lt;script src=&quot;https://cdn.jsdelivr.net/npm/bootstrap@5.2.2/dist/js/bootstrap.bundle.min.js&quot;&gt;&lt;/script&gt;\n",
              "    &lt;script src=&quot;https://cdnjs.cloudflare.com/ajax/libs/Leaflet.awesome-markers/2.0.2/leaflet.awesome-markers.js&quot;&gt;&lt;/script&gt;\n",
              "    &lt;link rel=&quot;stylesheet&quot; href=&quot;https://cdn.jsdelivr.net/npm/leaflet@1.9.3/dist/leaflet.css&quot;/&gt;\n",
              "    &lt;link rel=&quot;stylesheet&quot; href=&quot;https://cdn.jsdelivr.net/npm/bootstrap@5.2.2/dist/css/bootstrap.min.css&quot;/&gt;\n",
              "    &lt;link rel=&quot;stylesheet&quot; href=&quot;https://netdna.bootstrapcdn.com/bootstrap/3.0.0/css/bootstrap-glyphicons.css&quot;/&gt;\n",
              "    &lt;link rel=&quot;stylesheet&quot; href=&quot;https://cdn.jsdelivr.net/npm/@fortawesome/fontawesome-free@6.2.0/css/all.min.css&quot;/&gt;\n",
              "    &lt;link rel=&quot;stylesheet&quot; href=&quot;https://cdnjs.cloudflare.com/ajax/libs/Leaflet.awesome-markers/2.0.2/leaflet.awesome-markers.css&quot;/&gt;\n",
              "    &lt;link rel=&quot;stylesheet&quot; href=&quot;https://cdn.jsdelivr.net/gh/python-visualization/folium/folium/templates/leaflet.awesome.rotate.min.css&quot;/&gt;\n",
              "    \n",
              "            &lt;meta name=&quot;viewport&quot; content=&quot;width=device-width,\n",
              "                initial-scale=1.0, maximum-scale=1.0, user-scalable=no&quot; /&gt;\n",
              "            &lt;style&gt;\n",
              "                #map_7710905748baa693b9fb8c21e6baa5d8 {\n",
              "                    position: relative;\n",
              "                    width: 100.0%;\n",
              "                    height: 100.0%;\n",
              "                    left: 0.0%;\n",
              "                    top: 0.0%;\n",
              "                }\n",
              "                .leaflet-container { font-size: 1rem; }\n",
              "            &lt;/style&gt;\n",
              "        \n",
              "    \n",
              "                    &lt;style&gt;\n",
              "                        .foliumtooltip {\n",
              "                            \n",
              "                        }\n",
              "                       .foliumtooltip table{\n",
              "                            margin: auto;\n",
              "                        }\n",
              "                        .foliumtooltip tr{\n",
              "                            text-align: left;\n",
              "                        }\n",
              "                        .foliumtooltip th{\n",
              "                            padding: 2px; padding-right: 8px;\n",
              "                        }\n",
              "                    &lt;/style&gt;\n",
              "            \n",
              "&lt;/head&gt;\n",
              "&lt;body&gt;\n",
              "    \n",
              "    \n",
              "            &lt;div class=&quot;folium-map&quot; id=&quot;map_7710905748baa693b9fb8c21e6baa5d8&quot; &gt;&lt;/div&gt;\n",
              "        \n",
              "&lt;/body&gt;\n",
              "&lt;script&gt;\n",
              "    \n",
              "    \n",
              "            var map_7710905748baa693b9fb8c21e6baa5d8 = L.map(\n",
              "                &quot;map_7710905748baa693b9fb8c21e6baa5d8&quot;,\n",
              "                {\n",
              "                    center: [59.696990150000005, 30.103135800000004],\n",
              "                    crs: L.CRS.EPSG3857,\n",
              "                    zoom: 10,\n",
              "                    zoomControl: true,\n",
              "                    preferCanvas: false,\n",
              "                }\n",
              "            );\n",
              "            L.control.scale().addTo(map_7710905748baa693b9fb8c21e6baa5d8);\n",
              "\n",
              "            \n",
              "\n",
              "        \n",
              "    \n",
              "            var tile_layer_fbf0369d46d22f8d3b735ac7f538f5e4 = L.tileLayer(\n",
              "                &quot;https://tile.openstreetmap.org/{z}/{x}/{y}.png&quot;,\n",
              "                {&quot;attribution&quot;: &quot;\\u0026copy; \\u003ca href=\\&quot;https://www.openstreetmap.org/copyright\\&quot;\\u003eOpenStreetMap\\u003c/a\\u003e contributors&quot;, &quot;detectRetina&quot;: false, &quot;maxNativeZoom&quot;: 19, &quot;maxZoom&quot;: 19, &quot;minZoom&quot;: 0, &quot;noWrap&quot;: false, &quot;opacity&quot;: 1, &quot;subdomains&quot;: &quot;abc&quot;, &quot;tms&quot;: false}\n",
              "            );\n",
              "        \n",
              "    \n",
              "            tile_layer_fbf0369d46d22f8d3b735ac7f538f5e4.addTo(map_7710905748baa693b9fb8c21e6baa5d8);\n",
              "        \n",
              "    \n",
              "            map_7710905748baa693b9fb8c21e6baa5d8.fitBounds(\n",
              "                [[59.69192970000002, 30.090280800000002], [59.7020506, 30.115990800000002]],\n",
              "                {}\n",
              "            );\n",
              "        \n",
              "    \n",
              "        function geo_json_e1ca91ea5e62119b625ba68a70b416b1_styler(feature) {\n",
              "            switch(feature.id) {\n",
              "                default:\n",
              "                    return {&quot;fillOpacity&quot;: 0.5, &quot;weight&quot;: 2};\n",
              "            }\n",
              "        }\n",
              "        function geo_json_e1ca91ea5e62119b625ba68a70b416b1_highlighter(feature) {\n",
              "            switch(feature.id) {\n",
              "                default:\n",
              "                    return {&quot;fillOpacity&quot;: 0.75};\n",
              "            }\n",
              "        }\n",
              "        function geo_json_e1ca91ea5e62119b625ba68a70b416b1_pointToLayer(feature, latlng) {\n",
              "            var opts = {&quot;bubblingMouseEvents&quot;: true, &quot;color&quot;: &quot;#3388ff&quot;, &quot;dashArray&quot;: null, &quot;dashOffset&quot;: null, &quot;fill&quot;: true, &quot;fillColor&quot;: &quot;#3388ff&quot;, &quot;fillOpacity&quot;: 0.2, &quot;fillRule&quot;: &quot;evenodd&quot;, &quot;lineCap&quot;: &quot;round&quot;, &quot;lineJoin&quot;: &quot;round&quot;, &quot;opacity&quot;: 1.0, &quot;radius&quot;: 2, &quot;stroke&quot;: true, &quot;weight&quot;: 3};\n",
              "            \n",
              "            let style = geo_json_e1ca91ea5e62119b625ba68a70b416b1_styler(feature)\n",
              "            Object.assign(opts, style)\n",
              "            \n",
              "            return new L.CircleMarker(latlng, opts)\n",
              "        }\n",
              "\n",
              "        function geo_json_e1ca91ea5e62119b625ba68a70b416b1_onEachFeature(feature, layer) {\n",
              "            layer.on({\n",
              "                mouseout: function(e) {\n",
              "                    if(typeof e.target.setStyle === &quot;function&quot;){\n",
              "                            geo_json_e1ca91ea5e62119b625ba68a70b416b1.resetStyle(e.target);\n",
              "                    }\n",
              "                },\n",
              "                mouseover: function(e) {\n",
              "                    if(typeof e.target.setStyle === &quot;function&quot;){\n",
              "                        const highlightStyle = geo_json_e1ca91ea5e62119b625ba68a70b416b1_highlighter(e.target.feature)\n",
              "                        e.target.setStyle(highlightStyle);\n",
              "                    }\n",
              "                },\n",
              "            });\n",
              "        };\n",
              "        var geo_json_e1ca91ea5e62119b625ba68a70b416b1 = L.geoJson(null, {\n",
              "                onEachFeature: geo_json_e1ca91ea5e62119b625ba68a70b416b1_onEachFeature,\n",
              "            \n",
              "                style: geo_json_e1ca91ea5e62119b625ba68a70b416b1_styler,\n",
              "                pointToLayer: geo_json_e1ca91ea5e62119b625ba68a70b416b1_pointToLayer,\n",
              "        });\n",
              "\n",
              "        function geo_json_e1ca91ea5e62119b625ba68a70b416b1_add (data) {\n",
              "            geo_json_e1ca91ea5e62119b625ba68a70b416b1\n",
              "                .addData(data);\n",
              "        }\n",
              "            geo_json_e1ca91ea5e62119b625ba68a70b416b1_add({&quot;bbox&quot;: [30.090280800000002, 59.69192970000002, 30.115990800000002, 59.7020506], &quot;features&quot;: [{&quot;bbox&quot;: [30.101155100000003, 59.6970037, 30.1103128, 59.6992531], &quot;geometry&quot;: {&quot;coordinates&quot;: [[[30.103590499999996, 59.69922969999999], [30.1041497, 59.69923709999998], [30.105682300000005, 59.6992531], [30.1063248, 59.69920910000001], [30.106812599999998, 59.699183099999985], [30.1068653, 59.69918119999999], [30.1070009, 59.69917619999997], [30.1073559, 59.6991631], [30.1082997, 59.69919109999999], [30.109427000000004, 59.69919530000001], [30.1095398, 59.699177299999995], [30.1102033, 59.698913000000005], [30.110290700000004, 59.69888599999999], [30.1103128, 59.69841790000001], [30.110256, 59.69798829999998], [30.1102776, 59.69764099999998], [30.110242400000004, 59.69744569999999], [30.1100771, 59.697343899999986], [30.109957599999998, 59.697278999999995], [30.109637, 59.6971123], [30.1093706, 59.6970037], [30.109312, 59.69705050000002], [30.1092159, 59.69712740000001], [30.108033400000004, 59.698073], [30.107904700000002, 59.698143299999984], [30.107794200000004, 59.698202899999984], [30.1076547, 59.6982191], [30.1074723, 59.6982137], [30.1070257, 59.69817859999997], [30.1069082, 59.6981504], [30.1066628, 59.698101400000006], [30.106129800000005, 59.69797220000001], [30.105834, 59.69791529999997], [30.1057228, 59.69787960000002], [30.1055096, 59.69781099999996], [30.1052618, 59.6977328], [30.1050979, 59.6976627], [30.104974799999997, 59.69762229999999], [30.1045804, 59.6974932], [30.104552500000004, 59.6974841], [30.104479099999995, 59.69746], [30.103923, 59.6972779], [30.103740299999995, 59.69721839999997], [30.103423000000003, 59.697452899999995], [30.1030853, 59.6977025], [30.1026591, 59.698017400000005], [30.102188100000003, 59.6983654], [30.1019917, 59.69851049999999], [30.1017918, 59.69865720000001], [30.101285700000002, 59.69902830000001], [30.101155100000003, 59.699124899999994], [30.1013035, 59.69917469999998], [30.1014851, 59.699190399999985], [30.102193100000004, 59.699210999999984], [30.1024169, 59.699213999999984], [30.1025034, 59.69921509999996], [30.103464, 59.69922800000001], [30.103590499999996, 59.69922969999999]]], &quot;type&quot;: &quot;Polygon&quot;}, &quot;id&quot;: &quot;0&quot;, &quot;properties&quot;: {}, &quot;type&quot;: &quot;Feature&quot;}, {&quot;bbox&quot;: [30.1010409, 59.698330699999985, 30.115711100000002, 59.70061290000001], &quot;geometry&quot;: {&quot;coordinates&quot;: [[[30.110290700000004, 59.69888599999999], [30.1102033, 59.698913000000005], [30.1095398, 59.699177299999995], [30.109427000000004, 59.69919530000001], [30.1082997, 59.69919109999999], [30.1073559, 59.6991631], [30.1070009, 59.69917619999997], [30.1068653, 59.69918119999999], [30.106812599999998, 59.699183099999985], [30.1063248, 59.69920910000001], [30.105682300000005, 59.6992531], [30.1041497, 59.69923709999998], [30.103590499999996, 59.69922969999999], [30.103464, 59.69922800000001], [30.1025034, 59.69921509999996], [30.1024169, 59.699213999999984], [30.102193100000004, 59.699210999999984], [30.1014851, 59.699190399999985], [30.1013035, 59.69917469999998], [30.101155100000003, 59.699124899999994], [30.1010563, 59.6991979], [30.1010409, 59.69920929999994], [30.102304800000002, 59.699302499999995], [30.105676100000004, 59.699312099999986], [30.106797000000004, 59.6992333], [30.106856999999998, 59.6995587], [30.107142699999997, 59.6996901], [30.107409400000005, 59.699715700000006], [30.108329999999995, 59.7004973], [30.109022799999998, 59.70061290000001], [30.109182200000003, 59.700583399999985], [30.1092264, 59.7005371], [30.109472600000004, 59.70047219999999], [30.1095745, 59.7004181], [30.109693899999996, 59.7003802], [30.1097126, 59.70034369999999], [30.1096778, 59.70025709999999], [30.109598600000005, 59.70016840000001], [30.1096027, 59.7000974], [30.1097153, 59.700064199999986], [30.109762299999996, 59.7000013], [30.1101002, 59.69991809999999], [30.110191399999998, 59.6997219], [30.110191399999998, 59.69959670000001], [30.110163200000002, 59.69953779999999], [30.1102585, 59.69953309999998], [30.1103228, 59.699557399999996], [30.1103857, 59.69958800000003], [30.110675100000005, 59.69943909999999], [30.110819799999998, 59.6993281], [30.111005500000005, 59.699253], [30.1111516, 59.69922729999999], [30.1113622, 59.699244200000024], [30.111582099999996, 59.6991954], [30.111802100000002, 59.699133200000006], [30.112193700000002, 59.69906819999999], [30.112396200000003, 59.69904589999999], [30.112415, 59.69907090000001], [30.1124753, 59.6990743], [30.1127529, 59.6989627], [30.1128991, 59.698960000000014], [30.1129863, 59.69890449999998], [30.112939300000004, 59.6987042], [30.1130158, 59.69868859999999], [30.1131244, 59.69870619999998], [30.113178, 59.69889639999999], [30.113233, 59.698930899999986], [30.1133537, 59.6989573], [30.113567, 59.6989728], [30.113690300000002, 59.69900940000001], [30.1137149, 59.6990773], [30.113638399999996, 59.69917119999999], [30.1136126, 59.699264499999984], [30.113620600000004, 59.699375400000015], [30.1136649, 59.69946809999997], [30.1138399, 59.69943709999999], [30.1143896, 59.69932399999999], [30.115711100000002, 59.69913789999999], [30.1156272, 59.6990505], [30.114833999999995, 59.69851090000001], [30.114648700000004, 59.698397699999994], [30.114476400000004, 59.69837479999999], [30.113400399999996, 59.6983846], [30.1130229, 59.698356699999984], [30.1126065, 59.698330699999985], [30.111849100000004, 59.69844279999998], [30.111167, 59.69861479999999], [30.110290700000004, 59.69888599999999]]], &quot;type&quot;: &quot;Polygon&quot;}, &quot;id&quot;: &quot;1&quot;, &quot;properties&quot;: {}, &quot;type&quot;: &quot;Feature&quot;}, {&quot;bbox&quot;: [30.103740299999995, 59.6944253, 30.115990800000002, 59.69913789999999], &quot;geometry&quot;: {&quot;coordinates&quot;: [[[30.110290700000004, 59.69888599999999], [30.111167, 59.69861479999999], [30.111849100000004, 59.69844279999998], [30.1126065, 59.698330699999985], [30.1130229, 59.698356699999984], [30.113400399999996, 59.6983846], [30.114476400000004, 59.69837479999999], [30.114648700000004, 59.698397699999994], [30.114833999999995, 59.69851090000001], [30.1156272, 59.6990505], [30.115711100000002, 59.69913789999999], [30.115990800000002, 59.69906819999999], [30.115002299999997, 59.698143400000006], [30.113620399999995, 59.6972484], [30.1118357, 59.696089999999984], [30.1108373, 59.695943799999995], [30.107320000000005, 59.6944253], [30.1072261, 59.69455319999999], [30.1070795, 59.69469740000003], [30.1063314, 59.69530860000004], [30.105848300000005, 59.69567330000001], [30.1056863, 59.6957868], [30.104924300000004, 59.69633879999999], [30.1046508, 59.696536999999985], [30.1044189, 59.6967074], [30.1043046, 59.6967914], [30.1038703, 59.697117199999994], [30.103740299999995, 59.69721839999997], [30.103923, 59.6972779], [30.104479099999995, 59.69746], [30.104552500000004, 59.6974841], [30.1045804, 59.6974932], [30.104974799999997, 59.69762229999999], [30.1050979, 59.6976627], [30.1052618, 59.6977328], [30.1055096, 59.69781099999996], [30.1057228, 59.69787960000002], [30.105834, 59.69791529999997], [30.106129800000005, 59.69797220000001], [30.1066628, 59.698101400000006], [30.1069082, 59.6981504], [30.1070257, 59.69817859999997], [30.1074723, 59.6982137], [30.1076547, 59.6982191], [30.107794200000004, 59.698202899999984], [30.107904700000002, 59.698143299999984], [30.108033400000004, 59.698073], [30.1092159, 59.69712740000001], [30.109312, 59.69705050000002], [30.1093706, 59.6970037], [30.109637, 59.6971123], [30.109957599999998, 59.697278999999995], [30.1100771, 59.697343899999986], [30.110242400000004, 59.69744569999999], [30.1102776, 59.69764099999998], [30.110256, 59.69798829999998], [30.1103128, 59.69841790000001], [30.110290700000004, 59.69888599999999]]], &quot;type&quot;: &quot;Polygon&quot;}, &quot;id&quot;: &quot;2&quot;, &quot;properties&quot;: {}, &quot;type&quot;: &quot;Feature&quot;}, {&quot;bbox&quot;: [30.095485173344724, 59.69211586508479, 30.09858978150635, 59.6927837], &quot;geometry&quot;: {&quot;coordinates&quot;: [[[30.095485173344724, 59.69211586508479], [30.096147700000003, 59.6922455], [30.096867300000003, 59.692391999999984], [30.097645200000002, 59.69255859999999], [30.098053000000004, 59.692658700000024], [30.0983446, 59.6927304], [30.098518899999995, 59.6927837], [30.09858978150635, 59.6927226772398], [30.0961533, 59.69220389999997], [30.095485173344724, 59.69211586508479]]], &quot;type&quot;: &quot;Polygon&quot;}, &quot;id&quot;: &quot;3&quot;, &quot;properties&quot;: {}, &quot;type&quot;: &quot;Feature&quot;}, {&quot;bbox&quot;: [30.090280800000002, 59.69192970000002, 30.1063314, 59.7020506], &quot;geometry&quot;: {&quot;coordinates&quot;: [[[30.098518899999995, 59.6927837], [30.0983446, 59.6927304], [30.098053000000004, 59.692658700000024], [30.097645200000002, 59.69255859999999], [30.096867300000003, 59.692391999999984], [30.096147700000003, 59.6922455], [30.095485173344724, 59.69211586508479], [30.0940724, 59.69192970000002], [30.09234827420561, 59.693307773264074], [30.090591499999995, 59.694711799999986], [30.090280800000002, 59.69883799999999], [30.0940998, 59.7014262], [30.096468500000004, 59.7020506], [30.1008979, 59.699198799999984], [30.1010409, 59.69920929999994], [30.1010563, 59.6991979], [30.101155100000003, 59.699124899999994], [30.101285700000002, 59.69902830000001], [30.1017918, 59.69865720000001], [30.1019917, 59.69851049999999], [30.102188100000003, 59.6983654], [30.1026591, 59.698017400000005], [30.1030853, 59.6977025], [30.103423000000003, 59.697452899999995], [30.103740299999995, 59.69721839999997], [30.1038703, 59.697117199999994], [30.1043046, 59.6967914], [30.1044189, 59.6967074], [30.1046508, 59.696536999999985], [30.104924300000004, 59.69633879999999], [30.1056863, 59.6957868], [30.105848300000005, 59.69567330000001], [30.1063314, 59.69530860000004], [30.105754499999996, 59.695108499999996], [30.105277999999995, 59.69495779999999], [30.103097100000003, 59.6942673], [30.1027124, 59.694143099999984], [30.101528499999997, 59.69375260000002], [30.100068700000005, 59.69327360000002], [30.098518899999995, 59.6927837]]], &quot;type&quot;: &quot;Polygon&quot;}, &quot;id&quot;: &quot;4&quot;, &quot;properties&quot;: {}, &quot;type&quot;: &quot;Feature&quot;}, {&quot;bbox&quot;: [30.098518899999995, 59.6927226772398, 30.107320000000005, 59.69530860000004], &quot;geometry&quot;: {&quot;coordinates&quot;: [[[30.098518899999995, 59.6927837], [30.100068700000005, 59.69327360000002], [30.101528499999997, 59.69375260000002], [30.1027124, 59.694143099999984], [30.103097100000003, 59.6942673], [30.105277999999995, 59.69495779999999], [30.105754499999996, 59.695108499999996], [30.1063314, 59.69530860000004], [30.1070795, 59.69469740000003], [30.1072261, 59.69455319999999], [30.107320000000005, 59.6944253], [30.1067635, 59.694195099999995], [30.1030024, 59.6935237], [30.0987834, 59.6927639], [30.09858978150635, 59.6927226772398], [30.098518899999995, 59.6927837]]], &quot;type&quot;: &quot;Polygon&quot;}, &quot;id&quot;: &quot;5&quot;, &quot;properties&quot;: {}, &quot;type&quot;: &quot;Feature&quot;}], &quot;type&quot;: &quot;FeatureCollection&quot;});\n",
              "\n",
              "        \n",
              "    \n",
              "    geo_json_e1ca91ea5e62119b625ba68a70b416b1.bindTooltip(\n",
              "    function(layer){\n",
              "    let div = L.DomUtil.create(&#x27;div&#x27;);\n",
              "    \n",
              "    return div\n",
              "    }\n",
              "    ,{&quot;className&quot;: &quot;foliumtooltip&quot;, &quot;sticky&quot;: true});\n",
              "                     \n",
              "    \n",
              "            geo_json_e1ca91ea5e62119b625ba68a70b416b1.addTo(map_7710905748baa693b9fb8c21e6baa5d8);\n",
              "        \n",
              "&lt;/script&gt;\n",
              "&lt;/html&gt;\" style=\"position:absolute;width:100%;height:100%;left:0;top:0;border:none !important;\" allowfullscreen webkitallowfullscreen mozallowfullscreen></iframe></div></div>"
            ]
          },
          "metadata": {},
          "execution_count": 14
        }
      ]
    },
    {
      "cell_type": "code",
      "source": [
        "blocks.plot(linewidth=0.5, figsize=(5,5)).set_axis_off()"
      ],
      "metadata": {
        "colab": {
          "base_uri": "https://localhost:8080/",
          "height": 336
        },
        "id": "GmNwtRtSp4su",
        "outputId": "75342999-0431-42ee-c5cd-d4698ee999b9"
      },
      "execution_count": 15,
      "outputs": [
        {
          "output_type": "display_data",
          "data": {
            "text/plain": [
              "<Figure size 500x500 with 1 Axes>"
            ],
            "image/png": "[encoded data removed]"
          },
          "metadata": {}
        }
      ]
    },
    {
      "cell_type": "code",
      "source": [
        "blocks.to_file('blocks.geojson')"
      ],
      "metadata": {
        "id": "NQpiNdbcqgHo",
        "colab": {
          "base_uri": "https://localhost:8080/"
        },
        "outputId": "77f79598-eee6-4b37-c3b5-019d6cc3cb1a"
      },
      "execution_count": 16,
      "outputs": [
        {
          "output_type": "stream",
          "name": "stderr",
          "text": [
            "<frozen importlib._bootstrap>:914: ImportWarning: _PyDrive2ImportHook.find_spec() not found; falling back to find_module()\n",
            "<frozen importlib._bootstrap>:914: ImportWarning: _PyDriveImportHook.find_spec() not found; falling back to find_module()\n",
            "<frozen importlib._bootstrap>:914: ImportWarning: _GenerativeAIImportHook.find_spec() not found; falling back to find_module()\n",
            "<frozen importlib._bootstrap>:914: ImportWarning: _OpenCVImportHook.find_spec() not found; falling back to find_module()\n",
            "<frozen importlib._bootstrap>:914: ImportWarning: APICoreClientInfoImportHook.find_spec() not found; falling back to find_module()\n",
            "<frozen importlib._bootstrap>:914: ImportWarning: _BokehImportHook.find_spec() not found; falling back to find_module()\n",
            "<frozen importlib._bootstrap>:914: ImportWarning: _AltairImportHook.find_spec() not found; falling back to find_module()\n",
            "<frozen importlib._bootstrap>:914: ImportWarning: _PyDrive2ImportHook.find_spec() not found; falling back to find_module()\n",
            "<frozen importlib._bootstrap>:914: ImportWarning: _PyDriveImportHook.find_spec() not found; falling back to find_module()\n",
            "<frozen importlib._bootstrap>:914: ImportWarning: _GenerativeAIImportHook.find_spec() not found; falling back to find_module()\n",
            "<frozen importlib._bootstrap>:914: ImportWarning: _OpenCVImportHook.find_spec() not found; falling back to find_module()\n",
            "<frozen importlib._bootstrap>:914: ImportWarning: APICoreClientInfoImportHook.find_spec() not found; falling back to find_module()\n",
            "<frozen importlib._bootstrap>:914: ImportWarning: _BokehImportHook.find_spec() not found; falling back to find_module()\n",
            "<frozen importlib._bootstrap>:914: ImportWarning: _AltairImportHook.find_spec() not found; falling back to find_module()\n"
          ]
        }
      ]
    },
    {
      "cell_type": "code",
      "source": [
        "from google.colab import files\n",
        "files.download('blocks.geojson')"
      ],
      "metadata": {
        "colab": {
          "base_uri": "https://localhost:8080/",
          "height": 17
        },
        "id": "l-aNTEYhstkt",
        "outputId": "20754179-df09-4506-9bb3-f7d71620a096"
      },
      "execution_count": 17,
      "outputs": [
        {
          "output_type": "display_data",
          "data": {
            "text/plain": [
              "<IPython.core.display.Javascript object>"
            ],
            "application/javascript": [
              "\n",
              "    async function download(id, filename, size) {\n",
              "      if (!google.colab.kernel.accessAllowed) {\n",
              "        return;\n",
              "      }\n",
              "      const div = document.createElement('div');\n",
              "      const label = document.createElement('label');\n",
              "      label.textContent = `Downloading \"${filename}\": `;\n",
              "      div.appendChild(label);\n",
              "      const progress = document.createElement('progress');\n",
              "      progress.max = size;\n",
              "      div.appendChild(progress);\n",
              "      document.body.appendChild(div);\n",
              "\n",
              "      const buffers = [];\n",
              "      let downloaded = 0;\n",
              "\n",
              "      const channel = await google.colab.kernel.comms.open(id);\n",
              "      // Send a message to notify the kernel that we're ready.\n",
              "      channel.send({})\n",
              "\n",
              "      for await (const message of channel.messages) {\n",
              "        // Send a message to notify the kernel that we're ready.\n",
              "        channel.send({})\n",
              "        if (message.buffers) {\n",
              "          for (const buffer of message.buffers) {\n",
              "            buffers.push(buffer);\n",
              "            downloaded += buffer.byteLength;\n",
              "            progress.value = downloaded;\n",
              "          }\n",
              "        }\n",
              "      }\n",
              "      const blob = new Blob(buffers, {type: 'application/binary'});\n",
              "      const a = document.createElement('a');\n",
              "      a.href = window.URL.createObjectURL(blob);\n",
              "      a.download = filename;\n",
              "      div.appendChild(a);\n",
              "      a.click();\n",
              "      div.remove();\n",
              "    }\n",
              "  "
            ]
          },
          "metadata": {}
        },
        {
          "output_type": "display_data",
          "data": {
            "text/plain": [
              "<IPython.core.display.Javascript object>"
            ],
            "application/javascript": [
              "download(\"download_5a5aa243-1757-45b6-af46-2c60bc7107a4\", \"blocks.geojson\", 15003)"
            ]
          },
          "metadata": {}
        }
      ]
    }
  ]
}